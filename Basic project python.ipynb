{
 "cells": [
  {
   "cell_type": "code",
   "execution_count": 4,
   "metadata": {},
   "outputs": [
    {
     "data": {
      "text/plain": [
       "45"
      ]
     },
     "execution_count": 4,
     "metadata": {},
     "output_type": "execute_result"
    }
   ],
   "source": [
    "#random\n",
    "import random\n",
    "health= 50\n",
    "r1 = random.randint(25,50)\n",
    "r1"
   ]
  },
  {
   "cell_type": "code",
   "execution_count": 5,
   "metadata": {},
   "outputs": [
    {
     "name": "stdout",
     "output_type": "stream",
     "text": [
      "95\n"
     ]
    }
   ],
   "source": [
    "health = health +r1\n",
    "print(health)"
   ]
  },
  {
   "cell_type": "code",
   "execution_count": 7,
   "metadata": {},
   "outputs": [
    {
     "data": {
      "text/plain": [
       "1"
      ]
     },
     "execution_count": 7,
     "metadata": {},
     "output_type": "execute_result"
    }
   ],
   "source": [
    "#count\n",
    "\n",
    "\"hello\".count(\"e\")"
   ]
  },
  {
   "cell_type": "code",
   "execution_count": 8,
   "metadata": {},
   "outputs": [
    {
     "data": {
      "text/plain": [
       "1"
      ]
     },
     "execution_count": 8,
     "metadata": {},
     "output_type": "execute_result"
    }
   ],
   "source": [
    "\"vineet\".count(\"vin\")"
   ]
  },
  {
   "cell_type": "code",
   "execution_count": 16,
   "metadata": {},
   "outputs": [
    {
     "data": {
      "text/plain": [
       "False"
      ]
     },
     "execution_count": 16,
     "metadata": {},
     "output_type": "execute_result"
    }
   ],
   "source": [
    "#alpha will check whether there are numbers or no \n",
    "x= \"happy birthday\"\n",
    "x.isalpha()\n",
    "#it is false because there is space inbetween "
   ]
  },
  {
   "cell_type": "code",
   "execution_count": 12,
   "metadata": {},
   "outputs": [
    {
     "data": {
      "text/plain": [
       "True"
      ]
     },
     "execution_count": 12,
     "metadata": {},
     "output_type": "execute_result"
    }
   ],
   "source": [
    "x1= \"abc\"\n",
    "x1.isalpha()"
   ]
  },
  {
   "cell_type": "code",
   "execution_count": 18,
   "metadata": {},
   "outputs": [
    {
     "data": {
      "text/plain": [
       "5"
      ]
     },
     "execution_count": 18,
     "metadata": {},
     "output_type": "execute_result"
    }
   ],
   "source": [
    "x.index(\" birthday\")"
   ]
  },
  {
   "cell_type": "code",
   "execution_count": 19,
   "metadata": {},
   "outputs": [
    {
     "data": {
      "text/plain": [
       "-1"
      ]
     },
     "execution_count": 19,
     "metadata": {},
     "output_type": "execute_result"
    }
   ],
   "source": [
    "x.find(\"gsfggs\")"
   ]
  },
  {
   "cell_type": "code",
   "execution_count": 20,
   "metadata": {},
   "outputs": [
    {
     "data": {
      "text/plain": [
       "'happy'"
      ]
     },
     "execution_count": 20,
     "metadata": {},
     "output_type": "execute_result"
    }
   ],
   "source": [
    "#strip\n",
    "y=\"00000000happy0000000\"\n",
    "y.strip(\"0\")"
   ]
  },
  {
   "cell_type": "code",
   "execution_count": 22,
   "metadata": {},
   "outputs": [
    {
     "data": {
      "text/plain": [
       "'happy0000000'"
      ]
     },
     "execution_count": 22,
     "metadata": {},
     "output_type": "execute_result"
    }
   ],
   "source": [
    "y.lstrip(\"0\")"
   ]
  },
  {
   "cell_type": "code",
   "execution_count": 23,
   "metadata": {},
   "outputs": [
    {
     "name": "stdout",
     "output_type": "stream",
     "text": [
      "what is your email addressvineetlokur@gmail.com\n"
     ]
    }
   ],
   "source": [
    "#user input\n",
    "email = input(\"what is your email address\").strip()\n",
    "user = email[:email.index(\"@\")]"
   ]
  },
  {
   "cell_type": "code",
   "execution_count": 26,
   "metadata": {},
   "outputs": [
    {
     "name": "stdout",
     "output_type": "stream",
     "text": [
      "['ID001', 26, 'A']\n"
     ]
    }
   ],
   "source": [
    "#ready Database\n",
    "\n",
    "Students ={\n",
    "    \"Alice\":[\"ID001\",26,\"A\"],\n",
    "    \"Alice\":[\"ID001\",26,\"A\"],\n",
    "    \"Alice\":[\"ID001\",26,\"A\"],\n",
    "    \"Alice\":[\"ID001\",26,\"A\"]\n",
    "    \n",
    "    \n",
    "}\n",
    "\n",
    "print(Students[\"Alice\"])"
   ]
  },
  {
   "cell_type": "code",
   "execution_count": 27,
   "metadata": {},
   "outputs": [
    {
     "name": "stdout",
     "output_type": "stream",
     "text": [
      "ID001\n"
     ]
    }
   ],
   "source": [
    "print(Students[\"Alice\"][0])"
   ]
  },
  {
   "cell_type": "code",
   "execution_count": 29,
   "metadata": {},
   "outputs": [
    {
     "name": "stdout",
     "output_type": "stream",
     "text": [
      "['ID001', 26, 'A']\n"
     ]
    }
   ],
   "source": [
    "Students ={\n",
    "    \"Alice\":[\"ID001\",26,\"A\"],\n",
    "    \"Alice\":[\"ID001\",26,\"A\"],\n",
    "    \"Alice\":[\"ID001\",26,\"A\"],\n",
    "    \"Alice\":[\"ID001\",26,\"A\"]\n",
    "    \n",
    "    \n",
    "}\n",
    "\n",
    "print(Students[\"Alice\"])"
   ]
  },
  {
   "cell_type": "code",
   "execution_count": 32,
   "metadata": {},
   "outputs": [
    {
     "name": "stdout",
     "output_type": "stream",
     "text": [
      "26\n"
     ]
    }
   ],
   "source": [
    "Students ={\n",
    "    \"Alice\":{\"id\":\"ID001\",\"age\":26,\"grade\":\"A\"},\n",
    "    \"Alice\":{\"id\":\"ID001\",\"age\":26,\"grade\":\"A\"},\n",
    "    \"Alice\":{\"id\":\"ID001\",\"age\":26,\"grade\":\"A\"},\n",
    "    \"Alice\":{\"id\":\"ID001\",\"age\":26,\"grade\":\"A\"}\n",
    "    \n",
    "    \n",
    "}\n",
    "print(Students[\"Alice\"][\"age\"])"
   ]
  },
  {
   "cell_type": "code",
   "execution_count": null,
   "metadata": {},
   "outputs": [],
   "source": [
    "#Cienma Simulator\n",
    "films = {\n",
    "    \"KGF\" :[3,5],\n",
    "    \"Bahubali\":[18,5],\n",
    "    \"RRR\":[15,5]\n",
    "    \n",
    "}\n",
    "\n",
    "while True:\n",
    "    choice = input(\"what flim would you like to watch\").strip().title()\n",
    "    \n",
    "    if choice in films:\n",
    "        age = int(input(\"how old are you\").strip())\n",
    "        \n",
    "        if age >=films[choice][0]:\n",
    "            print(\"enjoy the movie\")\n",
    "            \n",
    "            num_seats =films[choice][1]\n",
    "            \n",
    "            if num_seats >0:\n",
    "                print(\"enjoy the film\")\n",
    "                films[choice][1] = films[choice][1] -1\n",
    "            else:\n",
    "                print(\"sorry,we are solved out\")\n",
    "        \n",
    "        else:\n",
    "             print(\"you are too young to watch the film\")\n",
    "            \n",
    "        \n",
    "    else:\n",
    "        print(\"we dont have that film...\")\n",
    "        \n",
    "        \n",
    "        \n",
    "    \n",
    "\n",
    "\n"
   ]
  },
  {
   "cell_type": "code",
   "execution_count": 1,
   "metadata": {},
   "outputs": [
    {
     "name": "stdout",
     "output_type": "stream",
     "text": [
      "why is the sky blue?just because\n"
     ]
    }
   ],
   "source": [
    "answer = input(\"why is the sky blue?\").strip().lower()\n",
    "\n",
    "while answer !=\"just because\":\n",
    "    answer = input(\"why\").strip().lower()"
   ]
  },
  {
   "cell_type": "code",
   "execution_count": 2,
   "metadata": {},
   "outputs": [
    {
     "name": "stdout",
     "output_type": "stream",
     "text": [
      "['why is the sky blue?', 'why is there a face on the moon?', 'where all the dinosours']hii\n",
      "whyhii\n",
      "whyjoo\n",
      "whyjijid\n",
      "whyjust because\n"
     ]
    }
   ],
   "source": [
    "from random import choice\n",
    "\n",
    "questions =[\"why is the sky blue?\",\"why is there a face on the moon?\",\"where all the dinosours\"]\n",
    "\n",
    "question = choice(questions)\n",
    "answer = input(questions).strip().lower()\n",
    "\n",
    "while answer !=\"just because\":\n",
    "    answer = input(\"why\").strip().lower()"
   ]
  },
  {
   "cell_type": "code",
   "execution_count": 8,
   "metadata": {},
   "outputs": [
    {
     "name": "stdout",
     "output_type": "stream",
     "text": [
      "alex\n",
      "huda\n",
      "sarah\n"
     ]
    }
   ],
   "source": [
    "students ={\n",
    "    \"male\":[\"Tom\",\"Vineet\",\"winston\",\"alex\"],\n",
    "    \"female\":[\"keerti\",\"huda\",\"sarah\"]\n",
    "    \n",
    "}\n",
    "\n",
    "for key in students.keys():\n",
    "    for name in students[key]:\n",
    "        if \"a\" in name:\n",
    "            print(name)"
   ]
  },
  {
   "cell_type": "code",
   "execution_count": 9,
   "metadata": {},
   "outputs": [
    {
     "name": "stdout",
     "output_type": "stream",
     "text": [
      "[2, 4, 6, 8, 10, 12, 14, 16, 18, 20, 22, 24, 26, 28, 30, 32, 34, 36, 38, 40, 42, 44, 46, 48, 50, 52, 54, 56, 58, 60, 62, 64, 66, 68, 70, 72, 74, 76, 78, 80, 82, 84, 86, 88, 90, 92, 94, 96, 98, 100]\n"
     ]
    }
   ],
   "source": [
    "#list compresension\n",
    "\n",
    "even_numbers = [x for x in range(1,101)if x%2 ==0 ]\n",
    "print(even_numbers)"
   ]
  },
  {
   "cell_type": "code",
   "execution_count": 2,
   "metadata": {},
   "outputs": [
    {
     "name": "stdout",
     "output_type": "stream",
     "text": [
      "enter the namevinee\n",
      "[]\n"
     ]
    }
   ],
   "source": [
    "a = input(\"enter the name\").strip().lower()\n",
    "\n",
    "a1 = a.split()\n",
    "new_words =[]\n",
    "for word in a1:\n",
    "    if word[0] in \"aeiou\":\n",
    "        new_word = a1 +\"yay\"\n",
    "        new_words.append(new_word)\n",
    "print(new_words)\n",
    "        \n",
    "        \n",
    "    "
   ]
  },
  {
   "cell_type": "code",
   "execution_count": 3,
   "metadata": {},
   "outputs": [
    {
     "name": "stdout",
     "output_type": "stream",
     "text": [
      "100\n",
      "50\n",
      "100\n"
     ]
    }
   ],
   "source": [
    "#global key word\n",
    "\n",
    "a= 250\n",
    "\n",
    "def f1():\n",
    "    global a\n",
    "    a=100\n",
    "    print(a)\n",
    "\n",
    "def f2():\n",
    "    a=50\n",
    "    print(a)\n",
    "f1()\n",
    "f2()\n",
    "print(a)\n",
    "    \n",
    "#Two types of scope -global &local\n",
    "#Python functions create local sp"
   ]
  },
  {
   "cell_type": "code",
   "execution_count": 2,
   "metadata": {},
   "outputs": [
    {
     "name": "stdout",
     "output_type": "stream",
     "text": [
      "1 2 3 4\n"
     ]
    }
   ],
   "source": [
    "#args and **Kwargs\n",
    "#* it will unpack each individual item\n",
    "numbers =[1,2,3,4]\n",
    "print(*numbers)"
   ]
  },
  {
   "cell_type": "code",
   "execution_count": 3,
   "metadata": {},
   "outputs": [
    {
     "name": "stdout",
     "output_type": "stream",
     "text": [
      "A b c\n"
     ]
    }
   ],
   "source": [
    "print(*\"A\",\"b\",\"c\")"
   ]
  },
  {
   "cell_type": "code",
   "execution_count": 4,
   "metadata": {},
   "outputs": [
    {
     "data": {
      "text/plain": [
       "36"
      ]
     },
     "execution_count": 4,
     "metadata": {},
     "output_type": "execute_result"
    }
   ],
   "source": [
    "def add(*numbers):\n",
    "    total =0\n",
    "    for number in numbers:\n",
    "        total = total + number\n",
    "    return(total)\n",
    "\n",
    "add(1,2,3,4,5,6,7,8)\n",
    "    "
   ]
  },
  {
   "cell_type": "code",
   "execution_count": 5,
   "metadata": {},
   "outputs": [
    {
     "data": {
      "text/plain": [
       "'meetVineet! They are 23 years old and they likepython'"
      ]
     },
     "execution_count": 5,
     "metadata": {},
     "output_type": "execute_result"
    }
   ],
   "source": [
    "#how to unpack the dictionary\n",
    "\n",
    "def about(name,age,likes):\n",
    "    sentence = \"meet{}! They are {} years old and they like{}\".format(name,age,likes)\n",
    "    return sentence\n",
    "\n",
    "dictionary ={\"name\":\"Vineet\",\"age\":23,\"likes\":\"python\"}\n",
    "about(**dictionary)"
   ]
  },
  {
   "cell_type": "code",
   "execution_count": 7,
   "metadata": {},
   "outputs": [
    {
     "name": "stdout",
     "output_type": "stream",
     "text": [
      "hudaFemale\n",
      "ziyadmale\n"
     ]
    }
   ],
   "source": [
    "def foo(**kwargs):\n",
    "    for key,value in kwargs.items():\n",
    "        print(\"{}{}\".format(key,value))\n",
    "foo(huda=\"Female\",ziyad=\"male\")"
   ]
  },
  {
   "cell_type": "code",
   "execution_count": 2,
   "metadata": {},
   "outputs": [],
   "source": [
    "#tic tac toe\n",
    "board =[\" \"for i in range(9)]\n",
    "\n",
    "def print_board():\n",
    "    row1 =\"|{}|{}|{}|\".format(board[0],board[1],board[2])\n",
    "    row2 =\"|{}|{}|{}|\".format(board[3],board[4],board[5])\n",
    "    row3 =\"|{}|{}|{}|\".format(board[6],board[7],board[8])\n",
    "    \n",
    "    print(row1)\n",
    "    print(row2)\n",
    "    print(row3)"
   ]
  },
  {
   "cell_type": "code",
   "execution_count": null,
   "metadata": {},
   "outputs": [
    {
     "name": "stdout",
     "output_type": "stream",
     "text": [
      "| | | |\n",
      "| | | |\n",
      "| | | |\n",
      "your turn 1\n",
      "enter your move(1-9)4\n",
      "| | | |\n",
      "| | | |\n",
      "| | | |\n",
      "your turn 2\n",
      "enter your move(1-9)6\n",
      "| | | |\n",
      "| | | |\n",
      "| | | |\n",
      "your turn 1\n",
      "enter your move(1-9)7\n",
      "| | | |\n",
      "| | | |\n",
      "| | | |\n",
      "your turn 2\n",
      "enter your move(1-9)3\n",
      "| | | |\n",
      "| | | |\n",
      "| | | |\n",
      "your turn 1\n",
      "enter your move(1-9)6\n",
      "| | | |\n",
      "| | | |\n",
      "| | | |\n",
      "your turn 2\n"
     ]
    }
   ],
   "source": [
    "def player_move(icon):\n",
    "    if icon ==\"X\":\n",
    "        number =1\n",
    "    elif icon ==\"O\":\n",
    "        number =2\n",
    "    \n",
    "    print(\"your turn {}\".format(number))\n",
    "    \n",
    "    \n",
    "    choice = int(input(\"enter your move(1-9)\").strip())\n",
    "    if board[choice-1] ==\" \":\n",
    "        board[choice-1] ==icon\n",
    "    else:\n",
    "        print()\n",
    "        print(\"That space is taken\")\n",
    "        \n",
    "while True:\n",
    "    print_board()\n",
    "    player_move(\"X\")\n",
    "    print_board()\n",
    "    player_move(\"O\")"
   ]
  },
  {
   "cell_type": "code",
   "execution_count": null,
   "metadata": {},
   "outputs": [],
   "source": []
  }
 ],
 "metadata": {
  "kernelspec": {
   "display_name": "Python 3",
   "language": "python",
   "name": "python3"
  },
  "language_info": {
   "codemirror_mode": {
    "name": "ipython",
    "version": 3
   },
   "file_extension": ".py",
   "mimetype": "text/x-python",
   "name": "python",
   "nbconvert_exporter": "python",
   "pygments_lexer": "ipython3",
   "version": "3.8.3"
  }
 },
 "nbformat": 4,
 "nbformat_minor": 4
}
