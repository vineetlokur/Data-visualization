{
 "cells": [
  {
   "cell_type": "code",
   "execution_count": 3,
   "metadata": {},
   "outputs": [
    {
     "name": "stdout",
     "output_type": "stream",
     "text": [
      "she said, \"That's a great tasting apple !\"\n"
     ]
    }
   ],
   "source": [
    "double =\"she said, \\\"That's a great tasting apple !\\\"\"\n",
    "print(double)"
   ]
  },
  {
   "cell_type": "code",
   "execution_count": 5,
   "metadata": {},
   "outputs": [
    {
     "name": "stdout",
     "output_type": "stream",
     "text": [
      "she said, \"That's a great tasting apple !\"\n"
     ]
    }
   ],
   "source": [
    "double ='she said, \"That\\'s a great tasting apple !\\\"'\n",
    "print(double)"
   ]
  },
  {
   "cell_type": "code",
   "execution_count": 6,
   "metadata": {},
   "outputs": [
    {
     "name": "stdout",
     "output_type": "stream",
     "text": [
      "apple\n",
      "orange\n"
     ]
    }
   ],
   "source": [
    "fruit = 'apple'\n",
    "print(fruit)\n",
    "print('orange')"
   ]
  },
  {
   "cell_type": "code",
   "execution_count": 7,
   "metadata": {},
   "outputs": [
    {
     "data": {
      "text/plain": [
       "5"
      ]
     },
     "execution_count": 7,
     "metadata": {},
     "output_type": "execute_result"
    }
   ],
   "source": [
    "len(fruit)"
   ]
  },
  {
   "cell_type": "code",
   "execution_count": 8,
   "metadata": {},
   "outputs": [
    {
     "name": "stdout",
     "output_type": "stream",
     "text": [
      "5\n"
     ]
    }
   ],
   "source": [
    "#nested Function\n",
    "print(len('apple'))"
   ]
  },
  {
   "cell_type": "code",
   "execution_count": 9,
   "metadata": {},
   "outputs": [
    {
     "data": {
      "text/plain": [
       "'APPLE'"
      ]
     },
     "execution_count": 9,
     "metadata": {},
     "output_type": "execute_result"
    }
   ],
   "source": [
    "fruit.upper()"
   ]
  },
  {
   "cell_type": "code",
   "execution_count": 18,
   "metadata": {},
   "outputs": [
    {
     "name": "stdout",
     "output_type": "stream",
     "text": [
      "I Love python .\n"
     ]
    }
   ],
   "source": [
    "#string concatenate\n",
    "print('I ' + 'Love ' + 'python .' )"
   ]
  },
  {
   "cell_type": "code",
   "execution_count": 20,
   "metadata": {},
   "outputs": [
    {
     "name": "stdout",
     "output_type": "stream",
     "text": [
      "happy happy happy \n"
     ]
    }
   ],
   "source": [
    "#repeating strings\n",
    "happy = 'happy ' * 3\n",
    "print(happy)"
   ]
  },
  {
   "cell_type": "code",
   "execution_count": 21,
   "metadata": {},
   "outputs": [
    {
     "name": "stdout",
     "output_type": "stream",
     "text": [
      "I love Python 3.\n"
     ]
    }
   ],
   "source": [
    "version =3\n",
    "print('I love Python ' + str(version) + '.')"
   ]
  },
  {
   "cell_type": "code",
   "execution_count": 22,
   "metadata": {},
   "outputs": [
    {
     "name": "stdout",
     "output_type": "stream",
     "text": [
      "I love python.\n"
     ]
    }
   ],
   "source": [
    "#formated Strings\n",
    "print('I {} python.'.format('love'))"
   ]
  },
  {
   "cell_type": "code",
   "execution_count": 23,
   "metadata": {},
   "outputs": [
    {
     "name": "stdout",
     "output_type": "stream",
     "text": [
      "I Love You\n"
     ]
    }
   ],
   "source": [
    "print('{} {} {}'.format('I','Love','You'))"
   ]
  },
  {
   "cell_type": "code",
   "execution_count": 24,
   "metadata": {},
   "outputs": [
    {
     "name": "stdout",
     "output_type": "stream",
     "text": [
      "Ilove python.   pythonloves me\n"
     ]
    }
   ],
   "source": [
    "print('I{0} {1}.   {1}{0}s me'.format('love','python'))"
   ]
  },
  {
   "cell_type": "code",
   "execution_count": 25,
   "metadata": {},
   "outputs": [
    {
     "name": "stdout",
     "output_type": "stream",
     "text": [
      "I Love python.\n"
     ]
    }
   ],
   "source": [
    "first = 'I'\n",
    "second = 'Love'\n",
    "third = 'python'\n",
    "print('{} {} {}.'.format(first,second,third))"
   ]
  },
  {
   "cell_type": "code",
   "execution_count": 39,
   "metadata": {},
   "outputs": [
    {
     "name": "stdout",
     "output_type": "stream",
     "text": [
      "fruit     | Quantity  \n"
     ]
    }
   ],
   "source": [
    "print('{0:10}| {1:<10}'.format('fruit','Quantity'))"
   ]
  },
  {
   "cell_type": "code",
   "execution_count": 37,
   "metadata": {},
   "outputs": [
    {
     "name": "stdout",
     "output_type": "stream",
     "text": [
      "fruit     |   Quantity\n"
     ]
    }
   ],
   "source": [
    "print('{0:10}| {1:>10}'.format('fruit','Quantity'))"
   ]
  },
  {
   "cell_type": "code",
   "execution_count": 38,
   "metadata": {},
   "outputs": [
    {
     "name": "stdout",
     "output_type": "stream",
     "text": [
      "fruit     |  Quantity \n"
     ]
    }
   ],
   "source": [
    "print('{0:10}| {1:^10}'.format('fruit','Quantity'))"
   ]
  },
  {
   "cell_type": "code",
   "execution_count": 44,
   "metadata": {},
   "outputs": [
    {
     "name": "stdout",
     "output_type": "stream",
     "text": [
      "apple     |     2.33\n"
     ]
    }
   ],
   "source": [
    "print('{0:10}| {1:8.2f}'.format('apple',2.333))"
   ]
  },
  {
   "cell_type": "code",
   "execution_count": 45,
   "metadata": {},
   "outputs": [
    {
     "name": "stdout",
     "output_type": "stream",
     "text": [
      "apple     |    10.00\n"
     ]
    }
   ],
   "source": [
    "print('{0:10}| {1:8.2f}'.format('apple',10))"
   ]
  },
  {
   "cell_type": "code",
   "execution_count": 46,
   "metadata": {},
   "outputs": [
    {
     "name": "stdout",
     "output_type": "stream",
     "text": [
      "please type somethinghi\n",
      "You entered\n",
      "hi\n"
     ]
    }
   ],
   "source": [
    "#user input\n",
    "user_input = input('please type something')\n",
    "print('You entered')\n",
    "print(user_input)\n"
   ]
  },
  {
   "cell_type": "code",
   "execution_count": 55,
   "metadata": {},
   "outputs": [
    {
     "name": "stdout",
     "output_type": "stream",
     "text": [
      "please type somethinghi\n",
      "  __\n",
      "< hi >\n",
      "  __\n",
      "/\\_/\\   /\n",
      "(o.o)\n",
      "> ^ <\n"
     ]
    }
   ],
   "source": [
    "user_input = input('please type something')\n",
    "text_length = len(user_input)\n",
    "\n",
    "print('  {}'.format('_' * text_length))\n",
    "print('< {} >'.format(user_input))\n",
    "print('  {}'.format('_'*text_length))\n",
    "print('/\\_/\\   /')\n",
    "print('(o.o)')\n",
    "print('> ^ <')\n",
    "\n"
   ]
  },
  {
   "cell_type": "code",
   "execution_count": 56,
   "metadata": {},
   "outputs": [
    {
     "name": "stdout",
     "output_type": "stream",
     "text": [
      "2.0\n"
     ]
    }
   ],
   "source": [
    "print(8/4)"
   ]
  },
  {
   "cell_type": "code",
   "execution_count": 57,
   "metadata": {},
   "outputs": [
    {
     "name": "stdout",
     "output_type": "stream",
     "text": [
      "True\n"
     ]
    }
   ],
   "source": [
    "#Boolean\n",
    "a_boolean =True\n",
    "the_other_booelan =False\n",
    "print(a_boolean)"
   ]
  },
  {
   "cell_type": "code",
   "execution_count": 58,
   "metadata": {},
   "outputs": [
    {
     "data": {
      "text/plain": [
       "False"
      ]
     },
     "execution_count": 58,
     "metadata": {},
     "output_type": "execute_result"
    }
   ],
   "source": [
    "1 == 2"
   ]
  },
  {
   "cell_type": "code",
   "execution_count": 60,
   "metadata": {},
   "outputs": [
    {
     "data": {
      "text/plain": [
       "True"
      ]
     },
     "execution_count": 60,
     "metadata": {},
     "output_type": "execute_result"
    }
   ],
   "source": [
    "#AND \n",
    "37>29 and 37<40"
   ]
  },
  {
   "cell_type": "code",
   "execution_count": 61,
   "metadata": {},
   "outputs": [
    {
     "data": {
      "text/plain": [
       "True"
      ]
     },
     "execution_count": 61,
     "metadata": {},
     "output_type": "execute_result"
    }
   ],
   "source": [
    "37>29 or 37<40"
   ]
  },
  {
   "cell_type": "code",
   "execution_count": 63,
   "metadata": {},
   "outputs": [
    {
     "name": "stdout",
     "output_type": "stream",
     "text": [
      "true\n"
     ]
    }
   ],
   "source": [
    "#Conditions\n",
    "\n",
    "if 37 <40:\n",
    "    print(\"true\")"
   ]
  },
  {
   "cell_type": "code",
   "execution_count": 64,
   "metadata": {},
   "outputs": [
    {
     "name": "stdout",
     "output_type": "stream",
     "text": [
      "Have a ncoe day\n"
     ]
    }
   ],
   "source": [
    "#if statement\n",
    "\n",
    "age =31\n",
    "if age >=35:\n",
    "    print('You are old enogh to be president')\n",
    "print('Have a nice day')"
   ]
  },
  {
   "cell_type": "code",
   "execution_count": 66,
   "metadata": {},
   "outputs": [
    {
     "name": "stdout",
     "output_type": "stream",
     "text": [
      "your not old enogh to be president\n",
      "Have a nice day\n"
     ]
    }
   ],
   "source": [
    "#if else statement\n",
    "age =31\n",
    "if age >=35:\n",
    "    print('You are old enogh to be president')\n",
    "else:\n",
    "    print(\"your not old enogh to be president\")\n",
    "    \n",
    "print('Have a nice day')"
   ]
  },
  {
   "cell_type": "code",
   "execution_count": 67,
   "metadata": {},
   "outputs": [
    {
     "name": "stdout",
     "output_type": "stream",
     "text": [
      "your not old enogh to be president\n",
      "Have a nice day\n"
     ]
    }
   ],
   "source": [
    "#if elif else\n",
    "age =31\n",
    "if age >=35:\n",
    "    print('You are old enogh to be president')\n",
    "elif age>30:\n",
    "    print(\"your not old enogh to be president\")\n",
    "else:\n",
    "    print(\"your not ellgible\")\n",
    "    \n",
    "print('Have a nice day')\n",
    "    "
   ]
  },
  {
   "cell_type": "code",
   "execution_count": 68,
   "metadata": {},
   "outputs": [
    {
     "name": "stdout",
     "output_type": "stream",
     "text": [
      "hi\n"
     ]
    }
   ],
   "source": [
    "#functions.\n",
    "def say_hi():\n",
    "    print('hi')\n",
    "say_hi()"
   ]
  },
  {
   "cell_type": "code",
   "execution_count": 72,
   "metadata": {},
   "outputs": [
    {
     "name": "stdout",
     "output_type": "stream",
     "text": [
      "hi Vineet\n",
      "hi winston\n"
     ]
    }
   ],
   "source": [
    "#with parameter\n",
    "def say_hi(name):\n",
    "    print(\"hi {}\".format(name))\n",
    "\n",
    "say_hi('Vineet')\n",
    "say_hi('winston')"
   ]
  },
  {
   "cell_type": "code",
   "execution_count": 73,
   "metadata": {},
   "outputs": [
    {
     "name": "stdout",
     "output_type": "stream",
     "text": [
      "hi there\n",
      "hi winston\n"
     ]
    }
   ],
   "source": [
    "#with parameter\n",
    "def say_hi(name='there'):\n",
    "    print(\"hi {}\".format(name))\n",
    "\n",
    "say_hi()\n",
    "say_hi('winston')"
   ]
  },
  {
   "cell_type": "code",
   "execution_count": 74,
   "metadata": {},
   "outputs": [
    {
     "name": "stdout",
     "output_type": "stream",
     "text": [
      "hi Vineet Lokur\n"
     ]
    }
   ],
   "source": [
    "#Multiple paramter\n",
    "\n",
    "def say_hi(first,last):\n",
    "    print(\"hi {} {}\".format(first,last))\n",
    "\n",
    "say_hi('Vineet','Lokur')"
   ]
  },
  {
   "cell_type": "code",
   "execution_count": 76,
   "metadata": {},
   "outputs": [
    {
     "name": "stdout",
     "output_type": "stream",
     "text": [
      "hi Vineet Lokur\n",
      "hi vineet Lokur\n"
     ]
    }
   ],
   "source": [
    "def say_hi(first,last):\n",
    "    print(\"hi {} {}\".format(first,last))\n",
    "\n",
    "say_hi(first ='Vineet',last ='Lokur')\n",
    "say_hi(last=\"Lokur\",first='vineet')"
   ]
  },
  {
   "cell_type": "code",
   "execution_count": 80,
   "metadata": {},
   "outputs": [
    {
     "name": "stdout",
     "output_type": "stream",
     "text": [
      "odd\n"
     ]
    }
   ],
   "source": [
    "#return statement\n",
    "def odd_or_even(number):\n",
    "    if number %2 ==0:\n",
    "        return (\"even\")\n",
    "    else:\n",
    "        return('odd')\n",
    "k1 = odd_or_even(5)\n",
    "print(odd)"
   ]
  },
  {
   "cell_type": "code",
   "execution_count": 81,
   "metadata": {},
   "outputs": [
    {
     "name": "stdout",
     "output_type": "stream",
     "text": [
      "man\n"
     ]
    }
   ],
   "source": [
    "#list\n",
    "animals =['man','bear','pig']\n",
    "print(animals[0])\n"
   ]
  },
  {
   "cell_type": "code",
   "execution_count": 82,
   "metadata": {},
   "outputs": [
    {
     "name": "stdout",
     "output_type": "stream",
     "text": [
      "man\n",
      "cat\n"
     ]
    }
   ],
   "source": [
    "animals =['man','bear','pig']\n",
    "print(animals[0])\n",
    "animals[0]='cat'\n",
    "print(animals[0])"
   ]
  },
  {
   "cell_type": "code",
   "execution_count": 83,
   "metadata": {},
   "outputs": [
    {
     "name": "stdout",
     "output_type": "stream",
     "text": [
      "pig\n",
      "bear\n"
     ]
    }
   ],
   "source": [
    "#use negative index\n",
    "animals =['man','bear','pig']\n",
    "print(animals[-1])\n",
    "print(animals[-2])\n",
    "\n",
    "\n"
   ]
  },
  {
   "cell_type": "code",
   "execution_count": 86,
   "metadata": {},
   "outputs": [
    {
     "name": "stdout",
     "output_type": "stream",
     "text": [
      "['man', 'bear', 'pig']\n",
      "['man', 'bear', 'pig', 'cow']\n",
      "cow\n"
     ]
    }
   ],
   "source": [
    "#append \n",
    "animals =['man','bear','pig']\n",
    "print(animals)\n",
    "animals.append('cow')\n",
    "print(animals)\n",
    "print(animals[-1])"
   ]
  },
  {
   "cell_type": "code",
   "execution_count": 88,
   "metadata": {},
   "outputs": [
    {
     "name": "stdout",
     "output_type": "stream",
     "text": [
      "['man', 'bear', 'pig', 'cow', 'duck']\n"
     ]
    }
   ],
   "source": [
    "#extend\n",
    "animals =['man','bear','pig']\n",
    "animals.extend(['cow','duck'])\n",
    "print(animals)"
   ]
  },
  {
   "cell_type": "code",
   "execution_count": 89,
   "metadata": {},
   "outputs": [
    {
     "name": "stdout",
     "output_type": "stream",
     "text": [
      "['horse', 'man', 'bear', 'pig']\n"
     ]
    }
   ],
   "source": [
    "#inserting at particular index\n",
    "animals =['man','bear','pig']\n",
    "animals.insert(0,'horse')\n",
    "print(animals)"
   ]
  },
  {
   "cell_type": "code",
   "execution_count": 90,
   "metadata": {},
   "outputs": [
    {
     "ename": "ValueError",
     "evalue": "'cat' is not in list",
     "output_type": "error",
     "traceback": [
      "\u001b[1;31m---------------------------------------------------------------------------\u001b[0m",
      "\u001b[1;31mValueError\u001b[0m                                Traceback (most recent call last)",
      "\u001b[1;32m<ipython-input-90-f04333d9fa6d>\u001b[0m in \u001b[0;36m<module>\u001b[1;34m\u001b[0m\n\u001b[0;32m      1\u001b[0m \u001b[0manimals\u001b[0m \u001b[1;33m=\u001b[0m\u001b[1;33m[\u001b[0m\u001b[1;34m'man'\u001b[0m\u001b[1;33m,\u001b[0m\u001b[1;34m'bear'\u001b[0m\u001b[1;33m,\u001b[0m\u001b[1;34m'pig'\u001b[0m\u001b[1;33m]\u001b[0m\u001b[1;33m\u001b[0m\u001b[1;33m\u001b[0m\u001b[0m\n\u001b[1;32m----> 2\u001b[1;33m \u001b[0mcat_index\u001b[0m \u001b[1;33m=\u001b[0m \u001b[0manimals\u001b[0m\u001b[1;33m.\u001b[0m\u001b[0mindex\u001b[0m\u001b[1;33m(\u001b[0m\u001b[1;34m'cat'\u001b[0m\u001b[1;33m)\u001b[0m\u001b[1;33m\u001b[0m\u001b[1;33m\u001b[0m\u001b[0m\n\u001b[0m\u001b[0;32m      3\u001b[0m \u001b[0mprint\u001b[0m\u001b[1;33m(\u001b[0m\u001b[0mcat_index\u001b[0m\u001b[1;33m)\u001b[0m\u001b[1;33m\u001b[0m\u001b[1;33m\u001b[0m\u001b[0m\n",
      "\u001b[1;31mValueError\u001b[0m: 'cat' is not in list"
     ]
    }
   ],
   "source": [
    "animals =['man','bear','pig']\n",
    "cat_index = animals.index('cat')\n",
    "print(cat_index)\n"
   ]
  },
  {
   "cell_type": "code",
   "execution_count": 91,
   "metadata": {},
   "outputs": [
    {
     "name": "stdout",
     "output_type": "stream",
     "text": [
      "No cat found\n"
     ]
    }
   ],
   "source": [
    "#expection handling \n",
    "animals =['man','bear','pig']\n",
    "try:\n",
    "    cat_index =animals.index('cat')\n",
    "except:\n",
    "    cat_index ='No cat found'\n",
    "print(cat_index)"
   ]
  },
  {
   "cell_type": "code",
   "execution_count": 92,
   "metadata": {},
   "outputs": [
    {
     "name": "stdout",
     "output_type": "stream",
     "text": [
      "MAN \n",
      "BEAR\n",
      "PIG\n"
     ]
    }
   ],
   "source": [
    "#Loops\n",
    "\n",
    "animals =['man ','bear','pig']\n",
    "for animal in animals:\n",
    "    print(animal.upper())\n"
   ]
  },
  {
   "cell_type": "code",
   "execution_count": 98,
   "metadata": {},
   "outputs": [
    {
     "name": "stdout",
     "output_type": "stream",
     "text": [
      "6\n",
      "man \n",
      "bear\n",
      "pig\n",
      "cow\n",
      "duck\n",
      "horse\n"
     ]
    }
   ],
   "source": [
    "#while loop\n",
    "animals =['man ','bear','pig','cow','duck','horse']\n",
    "print(len(animals))\n",
    "\n",
    "index=0\n",
    "\n",
    "while index<len(animals):\n",
    "    print(animals[index])\n",
    "    index +=1\n",
    "    \n",
    "\n",
    "\n",
    "#"
   ]
  },
  {
   "cell_type": "code",
   "execution_count": 100,
   "metadata": {},
   "outputs": [
    {
     "name": "stdout",
     "output_type": "stream",
     "text": [
      "['bear', 'cow', 'duck', 'horse', 'man ', 'pig']\n"
     ]
    }
   ],
   "source": [
    "#sorting\n",
    "animals =['man ','bear','pig','cow','duck','horse']\n",
    "animal = sorted(animals)\n",
    "print(animal)"
   ]
  },
  {
   "cell_type": "code",
   "execution_count": 101,
   "metadata": {},
   "outputs": [
    {
     "name": "stdout",
     "output_type": "stream",
     "text": [
      "['man ', 'bear', 'pig', 'cow', 'duck', 'horse', 'cow', 'duck', 'horse']\n"
     ]
    }
   ],
   "source": [
    "#concatenate\n",
    "animals =['man ','bear','pig','cow','duck','horse']\n",
    "animals1 =['cow','duck','horse']\n",
    "all_animals = animals + animals1\n",
    "print(all_animals)"
   ]
  },
  {
   "cell_type": "code",
   "execution_count": 102,
   "metadata": {},
   "outputs": [
    {
     "name": "stdout",
     "output_type": "stream",
     "text": [
      "3\n",
      "4\n"
     ]
    }
   ],
   "source": [
    "#append\n",
    "\n",
    "animals =['cow','duck','horse']\n",
    "print(len(animals))\n",
    "animals.append('cow')\n",
    "print(len(animals))"
   ]
  },
  {
   "cell_type": "code",
   "execution_count": 103,
   "metadata": {},
   "outputs": [
    {
     "name": "stdout",
     "output_type": "stream",
     "text": [
      "0\n",
      "1\n",
      "2\n"
     ]
    }
   ],
   "source": [
    "for number in range(3):\n",
    "    print(number)"
   ]
  },
  {
   "cell_type": "code",
   "execution_count": 104,
   "metadata": {},
   "outputs": [
    {
     "name": "stdout",
     "output_type": "stream",
     "text": [
      "1\n",
      "2\n"
     ]
    }
   ],
   "source": [
    "#(start,stop)\n",
    "for number in range(1,3):\n",
    "    print(number)"
   ]
  },
  {
   "cell_type": "code",
   "execution_count": 105,
   "metadata": {},
   "outputs": [
    {
     "name": "stdout",
     "output_type": "stream",
     "text": [
      "1\n",
      "3\n",
      "5\n",
      "7\n",
      "9\n"
     ]
    }
   ],
   "source": [
    "#(start,stop,step)\n",
    "for number in range(1,10,2):\n",
    "    print(number)"
   ]
  },
  {
   "cell_type": "code",
   "execution_count": 110,
   "metadata": {},
   "outputs": [
    {
     "name": "stdout",
     "output_type": "stream",
     "text": [
      "dial555-0123 to call Jason.\n"
     ]
    }
   ],
   "source": [
    "#dictionaries\n",
    "\n",
    "contacts ={'vineet':'555-0123','carl':'555-0987'}\n",
    "jasons_phone =contacts['vineet']\n",
    "print('dial{} to call Jason.'.format(jasons_phone))"
   ]
  },
  {
   "cell_type": "code",
   "execution_count": 111,
   "metadata": {},
   "outputs": [
    {
     "name": "stdout",
     "output_type": "stream",
     "text": [
      "dial 555-345\n"
     ]
    }
   ],
   "source": [
    "contacts ={'vineet':'555-0123','carl':'555-0987'}\n",
    "contacts['vineet'] ='555-345'\n",
    "jason = contacts['vineet']\n",
    "print('dial {}'.format(jason))"
   ]
  },
  {
   "cell_type": "code",
   "execution_count": 112,
   "metadata": {},
   "outputs": [
    {
     "name": "stdout",
     "output_type": "stream",
     "text": [
      "{'vineet': '555-0123', 'carl': '555-0987', 'winston': '555-345'}\n"
     ]
    }
   ],
   "source": [
    "#add a key\n",
    "contacts ={'vineet':'555-0123','carl':'555-0987'}\n",
    "contacts['winston'] ='555-345'\n",
    "print(contacts)"
   ]
  },
  {
   "cell_type": "code",
   "execution_count": 115,
   "metadata": {},
   "outputs": [
    {
     "name": "stdout",
     "output_type": "stream",
     "text": [
      "{'carl': '555-0987', 'winston': '555-345'}\n"
     ]
    }
   ],
   "source": [
    "#Delete a dictionary\n",
    "contacts ={'vineet':'555-0123','carl':'555-0987'}\n",
    "contacts['winston'] ='555-345'\n",
    "del contacts['vineet']\n",
    "print(contacts)"
   ]
  },
  {
   "cell_type": "code",
   "execution_count": 119,
   "metadata": {},
   "outputs": [
    {
     "name": "stdout",
     "output_type": "stream",
     "text": [
      "jason:\n",
      "['555-0123', '555-0000']\n"
     ]
    }
   ],
   "source": [
    "#there can be list in the dictonary\n",
    "Contacts ={'vineet':['555-0123','555-0000'],\n",
    "           'carl':'555-0987'\n",
    "          }\n",
    "print('jason:')\n",
    "print(Contacts['vineet'])\n",
    "\n",
    "        "
   ]
  },
  {
   "cell_type": "code",
   "execution_count": 122,
   "metadata": {},
   "outputs": [
    {
     "name": "stdout",
     "output_type": "stream",
     "text": [
      "phone: 555-0123\n",
      "phone: 555-0000\n"
     ]
    }
   ],
   "source": [
    "Contacts ={'vineet':['555-0123','555-0000'],\n",
    "           'carl':'555-0987'\n",
    "          }\n",
    "for contacts in Contacts['vineet']:\n",
    "    print('phone: {}'.format( contacts))\n",
    "    "
   ]
  },
  {
   "cell_type": "code",
   "execution_count": 127,
   "metadata": {},
   "outputs": [
    {
     "name": "stdout",
     "output_type": "stream",
     "text": [
      "The number for Jason is555-0123.\n",
      "The number for carl is55-0987.\n"
     ]
    }
   ],
   "source": [
    "#loops in dictornary\n",
    "\n",
    "contacts ={\n",
    "    'Jason': '555-0123',\n",
    "    'carl':'55-0987'\n",
    "}\n",
    "\n",
    "for contact in contacts:\n",
    "    print('The number for {0} is{1}.'.format(contact,contacts[contact]))"
   ]
  },
  {
   "cell_type": "code",
   "execution_count": 128,
   "metadata": {},
   "outputs": [
    {
     "name": "stdout",
     "output_type": "stream",
     "text": [
      "The number for Jason is 555-0123.\n",
      "The number for carl is 55-0987.\n"
     ]
    }
   ],
   "source": [
    "contacts ={\n",
    "    'Jason': '555-0123',\n",
    "    'carl':'55-0987'\n",
    "}\n",
    "\n",
    "for person,phone_number  in contacts.items():\n",
    "    print('The number for {0} is {1}.'.format(person,phone_number))"
   ]
  },
  {
   "cell_type": "code",
   "execution_count": 135,
   "metadata": {},
   "outputs": [
    {
     "name": "stdout",
     "output_type": "stream",
     "text": [
      "1)Qin, Haotong, et al. \"Binary neural networks: A survey.\" Pattern Recognition 105 (2020): 107281.\n",
      "\n",
      "2)Martinez, Brais, et al. \"Training binary neural networks with real-to-binary convolutions.\" arXiv preprint arXiv:2003.11535 (2020).\n",
      "\n",
      "3)Courbariaux, Matthieu, Yoshua Bengio, and Jean-Pierre David. \"Binaryconnect: Training deep neural networks with binary weights during propagations.\" Advances in neural information processing systems. 2015.\n",
      "\n",
      "4)Shen, Mingzhu, et al. \"Searching for accurate binary neural architectures.\" Proceedings of the IEEE/CVF International Conference on Computer Vision Workshops. 2019.\n",
      "\n",
      "5)Bethge, Joseph, et al. \"MeliusNet: An Improved Network Architecture for Binary Neural Networks.\" Proceedings of the IEEE/CVF Winter Conference on Applications of Computer Vision. 2021.\n",
      "\n",
      "6)Qin, Haotong, et al. \"Binary neural networks: A survey.\" Pattern Recognition 105 (2020): 107281.\n",
      "\n",
      "7)Bethge, Joseph, et al. \"MeliusNet: An Improved Network Architecture for Binary Neural Networks.\" Proceedings of the IEEE/CVF Winter Conference on Applications of Computer Vision. 2021.\n",
      "\n",
      "8)Emmanuel Bengio, Pierre-Luc Bacon, Joelle Pineau, and Doina Precup. Conditional computation\n",
      "\n",
      "in neural networks for faster models. arXiv preprint arXiv:1511.06297, 2015.\n",
      "\n",
      " 9)S. Zhou, Y. Wu, Z. Ni, X. Zhou, H. Wen, and Y. Zou.\n",
      "\n",
      "Dorefa-net: Training low bitwidth convolutional neural\n",
      "\n",
      "networks with low bitwidth gradients. arXiv preprint\n",
      "\n",
      "arXiv:1606.06160, 2016.\n",
      "\n",
      "10)Bulat, Adrian, Brais Martinez, and Georgios Tzimiropoulos. \"Bats: Binary architecture search.\" Computer Visionâ€“ECCV 2020: 16th European Conference, Glasgow, UK, August 23â€“28, 2020, Proceedings, Part XXIII 16. Springer International Publishing, 2020.\n",
      "\n"
     ]
    }
   ],
   "source": [
    "#files\n",
    "with open('C:\\\\Users\\\\HP\\\\OneDrive\\\\Desktop\\\\reference binary neural network.txt') as the_file:\n",
    "    for line in the_file:\n",
    "        print(line)"
   ]
  },
  {
   "cell_type": "code",
   "execution_count": 136,
   "metadata": {},
   "outputs": [
    {
     "name": "stdout",
     "output_type": "stream",
     "text": [
      "1)Qin, Haotong, et al. \"Binary neural networks: A survey.\" Pattern Recognition 105 (2020): 107281.\n",
      "2)Martinez, Brais, et al. \"Training binary neural networks with real-to-binary convolutions.\" arXiv preprint arXiv:2003.11535 (2020).\n",
      "3)Courbariaux, Matthieu, Yoshua Bengio, and Jean-Pierre David. \"Binaryconnect: Training deep neural networks with binary weights during propagations.\" Advances in neural information processing systems. 2015.\n",
      "4)Shen, Mingzhu, et al. \"Searching for accurate binary neural architectures.\" Proceedings of the IEEE/CVF International Conference on Computer Vision Workshops. 2019.\n",
      "5)Bethge, Joseph, et al. \"MeliusNet: An Improved Network Architecture for Binary Neural Networks.\" Proceedings of the IEEE/CVF Winter Conference on Applications of Computer Vision. 2021.\n",
      "6)Qin, Haotong, et al. \"Binary neural networks: A survey.\" Pattern Recognition 105 (2020): 107281.\n",
      "7)Bethge, Joseph, et al. \"MeliusNet: An Improved Network Architecture for Binary Neural Networks.\" Proceedings of the IEEE/CVF Winter Conference on Applications of Computer Vision. 2021.\n",
      "8)Emmanuel Bengio, Pierre-Luc Bacon, Joelle Pineau, and Doina Precup. Conditional computation\n",
      "in neural networks for faster models. arXiv preprint arXiv:1511.06297, 2015.\n",
      " 9)S. Zhou, Y. Wu, Z. Ni, X. Zhou, H. Wen, and Y. Zou.\n",
      "Dorefa-net: Training low bitwidth convolutional neural\n",
      "networks with low bitwidth gradients. arXiv preprint\n",
      "arXiv:1606.06160, 2016.\n",
      "10)Bulat, Adrian, Brais Martinez, and Georgios Tzimiropoulos. \"Bats: Binary architecture search.\" Computer Visionâ€“ECCV 2020: 16th European Conference, Glasgow, UK, August 23â€“28, 2020, Proceedings, Part XXIII 16. Springer International Publishing, 2020.\n"
     ]
    }
   ],
   "source": [
    "#rstrip will remove gap \n",
    "with open('C:\\\\Users\\\\HP\\\\OneDrive\\\\Desktop\\\\reference binary neural network.txt') as the_file:\n",
    "    for line in the_file:\n",
    "        print(line.rstrip())"
   ]
  },
  {
   "cell_type": "code",
   "execution_count": 138,
   "metadata": {},
   "outputs": [
    {
     "name": "stdout",
     "output_type": "stream",
     "text": [
      "r\n"
     ]
    }
   ],
   "source": [
    "#checking the file mode\n",
    "with open('C:\\\\Users\\\\HP\\\\OneDrive\\\\Desktop\\\\reference binary neural network.txt') as the_file:\n",
    "    print(the_file.mode)"
   ]
  },
  {
   "cell_type": "code",
   "execution_count": 143,
   "metadata": {},
   "outputs": [
    {
     "name": "stdout",
     "output_type": "stream",
     "text": [
      "This is file .here is more text.\n"
     ]
    }
   ],
   "source": [
    "#how to write on the file\n",
    "\n",
    "with open('file.txt','w') as the_file:\n",
    "    the_file.write('This is file .')\n",
    "    the_file.write('here is more text.')\n",
    "    \n",
    "with open('file.txt') as the_file:\n",
    "    print(the_file.read())"
   ]
  },
  {
   "cell_type": "code",
   "execution_count": 146,
   "metadata": {},
   "outputs": [
    {
     "name": "stdout",
     "output_type": "stream",
     "text": [
      "Mon Mar 28 14:58:28 2022\n"
     ]
    }
   ],
   "source": [
    "from time import asctime\n",
    "print(asctime())"
   ]
  },
  {
   "cell_type": "code",
   "execution_count": 147,
   "metadata": {},
   "outputs": [
    {
     "data": {
      "text/plain": [
       "['_STRUCT_TM_ITEMS',\n",
       " '__doc__',\n",
       " '__loader__',\n",
       " '__name__',\n",
       " '__package__',\n",
       " '__spec__',\n",
       " 'altzone',\n",
       " 'asctime',\n",
       " 'ctime',\n",
       " 'daylight',\n",
       " 'get_clock_info',\n",
       " 'gmtime',\n",
       " 'localtime',\n",
       " 'mktime',\n",
       " 'monotonic',\n",
       " 'monotonic_ns',\n",
       " 'perf_counter',\n",
       " 'perf_counter_ns',\n",
       " 'process_time',\n",
       " 'process_time_ns',\n",
       " 'sleep',\n",
       " 'strftime',\n",
       " 'strptime',\n",
       " 'struct_time',\n",
       " 'thread_time',\n",
       " 'thread_time_ns',\n",
       " 'time',\n",
       " 'time_ns',\n",
       " 'timezone',\n",
       " 'tzname']"
      ]
     },
     "execution_count": 147,
     "metadata": {},
     "output_type": "execute_result"
    }
   ],
   "source": [
    "#content of time module\n",
    "import time\n",
    "dir(time)"
   ]
  },
  {
   "cell_type": "code",
   "execution_count": 148,
   "metadata": {},
   "outputs": [
    {
     "data": {
      "text/plain": [
       "['C:\\\\Users\\\\HP',\n",
       " 'C:\\\\ProgramData\\\\Anaconda3\\\\python38.zip',\n",
       " 'C:\\\\ProgramData\\\\Anaconda3\\\\DLLs',\n",
       " 'C:\\\\ProgramData\\\\Anaconda3\\\\lib',\n",
       " 'C:\\\\ProgramData\\\\Anaconda3',\n",
       " '',\n",
       " 'C:\\\\Users\\\\HP\\\\AppData\\\\Roaming\\\\Python\\\\Python38\\\\site-packages',\n",
       " 'C:\\\\ProgramData\\\\Anaconda3\\\\lib\\\\site-packages',\n",
       " 'C:\\\\ProgramData\\\\Anaconda3\\\\lib\\\\site-packages\\\\win32',\n",
       " 'C:\\\\ProgramData\\\\Anaconda3\\\\lib\\\\site-packages\\\\win32\\\\lib',\n",
       " 'C:\\\\ProgramData\\\\Anaconda3\\\\lib\\\\site-packages\\\\Pythonwin',\n",
       " 'C:\\\\ProgramData\\\\Anaconda3\\\\lib\\\\site-packages\\\\IPython\\\\extensions',\n",
       " 'C:\\\\Users\\\\HP\\\\.ipython']"
      ]
     },
     "execution_count": 148,
     "metadata": {},
     "output_type": "execute_result"
    }
   ],
   "source": [
    "#module Search path\n",
    "import sys\n",
    "sys.path"
   ]
  },
  {
   "cell_type": "code",
   "execution_count": 156,
   "metadata": {},
   "outputs": [
    {
     "name": "stdout",
     "output_type": "stream",
     "text": [
      "monday\n",
      "monday\n",
      "Tueday\n",
      "wed\n",
      "Thrusday\n",
      "friday\n",
      "saturaday\n"
     ]
    }
   ],
   "source": [
    "#tuples\n",
    "\n",
    "days_week = ('monday','Tueday','wed','Thrusday','friday','saturaday')\n",
    "monday = days_week[0]\n",
    "print(monday)\n",
    "\n",
    "for days in days_week:\n",
    "    print(days)"
   ]
  },
  {
   "cell_type": "code",
   "execution_count": 157,
   "metadata": {},
   "outputs": [
    {
     "ename": "TypeError",
     "evalue": "'tuple' object does not support item assignment",
     "output_type": "error",
     "traceback": [
      "\u001b[1;31m---------------------------------------------------------------------------\u001b[0m",
      "\u001b[1;31mTypeError\u001b[0m                                 Traceback (most recent call last)",
      "\u001b[1;32m<ipython-input-157-535a4051c382>\u001b[0m in \u001b[0;36m<module>\u001b[1;34m\u001b[0m\n\u001b[1;32m----> 1\u001b[1;33m \u001b[0mdays_week\u001b[0m\u001b[1;33m[\u001b[0m\u001b[1;36m0\u001b[0m\u001b[1;33m]\u001b[0m \u001b[1;33m=\u001b[0m\u001b[1;34m'new monday'\u001b[0m\u001b[1;33m\u001b[0m\u001b[1;33m\u001b[0m\u001b[0m\n\u001b[0m",
      "\u001b[1;31mTypeError\u001b[0m: 'tuple' object does not support item assignment"
     ]
    }
   ],
   "source": [
    "days_week[0] ='new monday'\n",
    "#As you cannot modify the tuple because it is immutable"
   ]
  },
  {
   "cell_type": "code",
   "execution_count": 159,
   "metadata": {},
   "outputs": [
    {
     "name": "stdout",
     "output_type": "stream",
     "text": [
      "monday\n",
      "Tueday\n",
      "wed\n",
      "Thrusday\n",
      "friday\n",
      "saturaday\n"
     ]
    }
   ],
   "source": [
    "#looping in tuple\n",
    "days_week = ('monday','Tueday','wed','Thrusday','friday','saturaday')\n",
    "for days in days_week:\n",
    "    print(days)"
   ]
  },
  {
   "cell_type": "code",
   "execution_count": 161,
   "metadata": {},
   "outputs": [
    {
     "name": "stdout",
     "output_type": "stream",
     "text": [
      "monday\n",
      "Tueday\n"
     ]
    }
   ],
   "source": [
    "days_week = ('monday','Tueday')\n",
    "(sat,sun) = days_week\n",
    "print(sat)\n",
    "print(sun)"
   ]
  },
  {
   "cell_type": "code",
   "execution_count": 163,
   "metadata": {},
   "outputs": [
    {
     "name": "stdout",
     "output_type": "stream",
     "text": [
      "jason's phone number is 555-0123.\n",
      "carl's phone number is 555-0987.\n"
     ]
    }
   ],
   "source": [
    "Contacts =[('jason','555-0123'),('carl','555-0987')]\n",
    "for (name,phone) in Contacts:\n",
    "    print(\"{}'s phone number is {}.\".format(name,phone))"
   ]
  },
  {
   "cell_type": "code",
   "execution_count": 3,
   "metadata": {},
   "outputs": [
    {
     "name": "stdout",
     "output_type": "stream",
     "text": [
      "c\n"
     ]
    }
   ],
   "source": [
    "score = 74\n",
    "studentname = \"vineet\"\n",
    "\n",
    "if 100>=score >=90:\n",
    "    print(\"A\")\n",
    "elif 90>=score >=80:\n",
    "    print(\"B\")\n",
    "elif 80>=score >=70:\n",
    "    print(\"c\")\n",
    "elif 70>=score >=60:\n",
    "    print(\"D\")\n"
   ]
  },
  {
   "cell_type": "code",
   "execution_count": 4,
   "metadata": {},
   "outputs": [
    {
     "name": "stdout",
     "output_type": "stream",
     "text": [
      "k\n",
      "You need to provide a valid number\n"
     ]
    }
   ],
   "source": [
    "#exception\n",
    "try:\n",
    "    age = int(input())\n",
    "    print(\"valid age\")\n",
    "except Exception:\n",
    "    print(\"You need to provide a valid number\")"
   ]
  },
  {
   "cell_type": "code",
   "execution_count": 6,
   "metadata": {},
   "outputs": [
    {
     "name": "stdout",
     "output_type": "stream",
     "text": [
      "hello world\n"
     ]
    }
   ],
   "source": [
    "#create function in python\n",
    "\n",
    "def hello():\n",
    "    print(\"hello world\")\n",
    "hello()"
   ]
  },
  {
   "cell_type": "code",
   "execution_count": 7,
   "metadata": {},
   "outputs": [
    {
     "name": "stdout",
     "output_type": "stream",
     "text": [
      "I love Python!\n"
     ]
    }
   ],
   "source": [
    "def love():\n",
    "    print(\"I love Python!\")\n",
    "love()"
   ]
  },
  {
   "cell_type": "code",
   "execution_count": 13,
   "metadata": {},
   "outputs": [
    {
     "name": "stdout",
     "output_type": "stream",
     "text": [
      "83\n",
      "69\n",
      "77\n",
      "45\n",
      "17\n",
      "79\n",
      "55\n",
      "81\n",
      "45\n",
      "33\n",
      "81\n",
      "79\n",
      "83\n",
      "41\n",
      "27\n",
      "59\n",
      "71\n",
      "1\n",
      "13\n",
      "91\n",
      "29\n",
      "65\n",
      "23\n",
      "57\n",
      "13\n",
      "39\n",
      "59\n",
      "29\n",
      "69\n",
      "83\n",
      "9\n",
      "83\n",
      "5\n",
      "55\n",
      "89\n",
      "67\n",
      "89\n",
      "17\n",
      "17\n",
      "13\n",
      "7\n",
      "67\n",
      "43\n",
      "65\n"
     ]
    }
   ],
   "source": [
    "numbers = [76, 83, 16, 69, 52, 78, 10, 77, 45, 52, 32, 17, 58, 54, 79, 72, 55, 50, 81, 74, 45, 33, 38, 10, 40, 44, 70, 81, 79, 28, 83, 41, 14, 16, 27, 38, 20, 84, 24, 50, 59, 71, 1, 13, 56, 91, 29, 54, 65, 23, 60, 57, 13, 39, 58, 94, 94, 42, 46, 58, 59, 29, 69, 60, 83, 9, 83, 5, 64, 70, 55, 89, 67, 89, 70, 8, 90, 17, 48, 17, 94, 18, 98, 72, 96, 26, 13, 7, 58, 67, 38, 48, 43, 98, 65, 8, 74, 44, 92]\n",
    "for odds in numbers:\n",
    "    if odds %2 !=0:\n",
    "        print(odds)"
   ]
  },
  {
   "cell_type": "code",
   "execution_count": null,
   "metadata": {},
   "outputs": [],
   "source": [
    "lives =10\n",
    "world = list(\"apple\")\n",
    "\n",
    "x = input()\n",
    "for i in world:\n",
    "    if i==x:\n",
    "        print(\"guess is correct\")\n",
    "    else:\n",
    "        lives = lives -1\n",
    "        x = input()\n",
    "        \n",
    "    \n",
    "score = \"Total lives {}\".format(lives)\n",
    "print(score)"
   ]
  },
  {
   "cell_type": "code",
   "execution_count": null,
   "metadata": {},
   "outputs": [],
   "source": [
    "dabools = [False, False, False, False, True, False, True, False, True, False, False, False, False, False, True, False, True, True, False, False, True, False, False, False, False, False, True, False, False, False, False, False, True, False, False, False, False, False, False, True, True, False, False, True, True, True, True, True, False, True, True, False, True, False, False, True, False, False, False, False, True, True, False, False, True, True, True, False, True, True, False, False]\n",
    "\n",
    "\n",
    "\n",
    "\n",
    "count1 ={}\n",
    "\n",
    "if "
   ]
  },
  {
   "cell_type": "code",
   "execution_count": 4,
   "metadata": {},
   "outputs": [
    {
     "name": "stdout",
     "output_type": "stream",
     "text": [
      "oneplus\n",
      "onplus6\n"
     ]
    }
   ],
   "source": [
    "class Dog:\n",
    "    \"hello\"\n",
    "\n",
    "dog1 = Dog()\n",
    "dog1.hellojon=\"oneplus\"\n",
    "dog2 = Dog()\n",
    "dog2.name=\"onplus6\"\n",
    "\n",
    "print(dog1.hellojon)\n",
    "print(dog2.name)"
   ]
  },
  {
   "cell_type": "code",
   "execution_count": 10,
   "metadata": {},
   "outputs": [
    {
     "name": "stdout",
     "output_type": "stream",
     "text": [
      "Hello world\n",
      "Hello world\n"
     ]
    }
   ],
   "source": [
    "class Dog:\n",
    "    \n",
    "    def __init__(self,name,age,furcolor):\n",
    "        self.name = name\n",
    "        self.age = age\n",
    "        self.furcolor = furcolor\n",
    "    \n",
    "    def barkhello():\n",
    "        print(\"Hello world\")\n",
    "        \n",
    "    def bark(self):\n",
    "        print(\"Hello world\")\n",
    "dog1 = Dog(\"dgufg\",\"dfdg\",\"hdg\")\n",
    "Dog.barkhello()\n",
    "dog1.bark()\n",
    "        \n"
   ]
  },
  {
   "cell_type": "code",
   "execution_count": 20,
   "metadata": {},
   "outputs": [
    {
     "name": "stdout",
     "output_type": "stream",
     "text": [
      "GRRRRRRr\n",
      "Hello world\n"
     ]
    }
   ],
   "source": [
    "class Dog:\n",
    "    \n",
    "    def __init__(self,name,age,furcolor):\n",
    "        self.name = name\n",
    "        self.age = age\n",
    "        self.furcolor = furcolor\n",
    "    \n",
    "    def barkhello():\n",
    "        print(\"Hello world\")\n",
    "        \n",
    "    def bark(self):\n",
    "        print(\"Hello world\")\n",
    "class bulldog(Dog):\n",
    "    def growl(self):\n",
    "        print(\"GRRRRRRr\")\n",
    "    \n",
    "dog1 = bulldog(\"mike\",22,\"white\")\n",
    "dog1 = bulldog(\"dgufg\",\"dfdg\",\"hdg\")\n",
    "dog1.growl()\n",
    "dog1.bark()..\n",
    "        "
   ]
  },
  {
   "cell_type": "code",
   "execution_count": 39,
   "metadata": {},
   "outputs": [],
   "source": [
    "#To split the words and tell the count\n",
    "\n",
    "file = open(\"C:\\\\Users\\\\HP\\\\OneDrive\\\\Desktop\\\\song.txt\",\"r\")\n",
    "text = file.read()\n",
    "text\n",
    "\n",
    "file.close()"
   ]
  },
  {
   "cell_type": "code",
   "execution_count": 32,
   "metadata": {},
   "outputs": [],
   "source": [
    "import operator"
   ]
  },
  {
   "cell_type": "code",
   "execution_count": 38,
   "metadata": {},
   "outputs": [
    {
     "name": "stdout",
     "output_type": "stream",
     "text": [
      "{'I': 14, 'miss': 1, 'my': 5, 'cocoa': 1, 'butter': 1, 'kisses': 1, 'Hope': 1, 'you': 19, 'smile': 1, 'when': 1, 'listen': 1, \"Ain't\": 1, 'no': 3, 'competition,': 1, 'just': 1, \"competin'\": 1, 'for': 3, 'attention': 1, 'And': 6, \"you're\": 3, 'like,': 1, '\"I\\'m': 1, 'not': 1, 'on': 4, 'games\"': 1, 'Well,': 1, 'baby,': 1, 'been': 5, \"peepin'\": 1, 'and': 4, \"ain't\": 1, 'the': 10, 'same': 1, 'Like,': 1, 'who': 1, 'mind?': 1, 'Who': 2, 'got': 10, 'your': 2, 'time?': 1, \"vibin'\": 1, 'wit': 1, 'why': 1, \"can't\": 1, 'make': 5, 'mine?': 1, 'You': 11, 'used': 1, 'to': 5, 'be': 1, \"textin'\": 1, 'me,': 2, \"checkin'\": 1, \"callin'\": 1, 'me': 12, 'slime': 1, 'now': 1, 'treat': 1, 'like': 1, 'worth': 1, 'less': 1, 'than': 1, 'a': 3, 'dime': 1, 'if': 2, 'we': 4, 'paint': 2, 'perfect': 2, 'picture,': 1, 'can': 2, 'it': 2, 'last': 2, 'forever': 2, 'only': 2, 'one': 3, 'want': 2, 'wear': 2, 'orange': 2, 'sweater': 2, 'told': 2, 'am': 2, 'down': 2, 'worse': 2, 'or': 2, 'better': 2, 'But': 2, 'keep': 2, \"stickin'\": 2, \"'cause\": 2, 'them': 2, 'four': 3, 'stupid': 2, 'letters': 2, \"singin'\": 9, 'love': 18, 'songs': 17, 'Love': 8, 'songs,': 8, 'Oh,': 1, 'this': 1, 'type': 1, 'of': 2, 'song': 4, 'tip': 1, 'fours': 1, 'pour': 1, 'up': 2, 'Yeah,': 1, 'that': 1, 'fall': 1, 'in': 1, 'That,': 1, '\"Hey': 1, 'big': 1, 'head,': 1, 'what': 1, 'on?\"': 1, 'Make': 1, 'hit': 1, 'Double': 1, 'cupped,': 1, 'but': 1, 'bae,': 1, \"I'm\": 2, \"leanin'\": 1, \"playin'\": 1, 'games,': 1, 'tryna': 1, 'boo': 1, \"don't\": 1, 'duck': 1, 'action,': 1, 'buss': 2, 'two': 1, 'Pills': 1, 'satisfaction,': 1, 'take': 1, 'red,': 1, 'pop': 1, 'blue': 1, 'picture': 1}\n",
      "[('\"Hey', 1), ('\"I\\'m', 1), (\"'cause\", 2), (\"Ain't\", 1), ('And', 6), ('But', 2), ('Double', 1), ('Hope', 1), ('I', 14), (\"I'm\", 2), ('Like,', 1), ('Love', 8), ('Make', 1), ('Oh,', 1), ('Pills', 1), ('That,', 1), ('Well,', 1), ('Who', 2), ('Yeah,', 1), ('You', 11), ('a', 3), ('action,', 1), (\"ain't\", 1), ('am', 2), ('and', 4), ('attention', 1), ('baby,', 1), ('bae,', 1), ('be', 1), ('been', 5), ('better', 2), ('big', 1), ('blue', 1), ('boo', 1), ('buss', 2), ('but', 1), ('butter', 1), (\"callin'\", 1), ('can', 2), (\"can't\", 1), (\"checkin'\", 1), ('cocoa', 1), (\"competin'\", 1), ('competition,', 1), ('cupped,', 1), ('dime', 1), (\"don't\", 1), ('down', 2), ('duck', 1), ('fall', 1), ('for', 3), ('forever', 2), ('four', 3), ('fours', 1), ('games\"', 1), ('games,', 1), ('got', 10), ('head,', 1), ('hit', 1), ('if', 2), ('in', 1), ('it', 2), ('just', 1), ('keep', 2), ('kisses', 1), ('last', 2), (\"leanin'\", 1), ('less', 1), ('letters', 2), ('like', 1), ('like,', 1), ('listen', 1), ('love', 18), ('make', 5), ('me', 12), ('me,', 2), ('mind?', 1), ('mine?', 1), ('miss', 1), ('my', 5), ('no', 3), ('not', 1), ('now', 1), ('of', 2), ('on', 4), ('on?\"', 1), ('one', 3), ('only', 2), ('or', 2), ('orange', 2), ('paint', 2), (\"peepin'\", 1), ('perfect', 2), ('picture', 1), ('picture,', 1), (\"playin'\", 1), ('pop', 1), ('pour', 1), ('red,', 1), ('same', 1), ('satisfaction,', 1), (\"singin'\", 9), ('slime', 1), ('smile', 1), ('song', 4), ('songs', 17), ('songs,', 8), (\"stickin'\", 2), ('stupid', 2), ('sweater', 2), ('take', 1), (\"textin'\", 1), ('than', 1), ('that', 1), ('the', 10), ('them', 2), ('this', 1), ('time?', 1), ('tip', 1), ('to', 5), ('told', 2), ('treat', 1), ('tryna', 1), ('two', 1), ('type', 1), ('up', 2), ('used', 1), (\"vibin'\", 1), ('want', 2), ('we', 4), ('wear', 2), ('what', 1), ('when', 1), ('who', 1), ('why', 1), ('wit', 1), ('worse', 2), ('worth', 1), ('you', 19), (\"you're\", 3), ('your', 2)]\n",
      "[('you', 19), ('love', 18), ('songs', 17), ('I', 14), ('me', 12), ('You', 11), ('the', 10), ('got', 10), (\"singin'\", 9), ('Love', 8), ('songs,', 8), ('And', 6), ('my', 5), ('been', 5), ('make', 5), ('to', 5), ('on', 4), ('and', 4), ('we', 4), ('song', 4), ('no', 3), ('for', 3), (\"you're\", 3), ('a', 3), ('one', 3), ('four', 3), ('Who', 2), ('your', 2), ('me,', 2), ('if', 2), ('paint', 2), ('perfect', 2), ('can', 2), ('it', 2), ('last', 2), ('forever', 2), ('only', 2), ('want', 2), ('wear', 2), ('orange', 2), ('sweater', 2), ('told', 2), ('am', 2), ('down', 2), ('worse', 2), ('or', 2), ('better', 2), ('But', 2), ('keep', 2), (\"stickin'\", 2), (\"'cause\", 2), ('them', 2), ('stupid', 2), ('letters', 2), ('of', 2), ('up', 2), (\"I'm\", 2), ('buss', 2), ('miss', 1), ('cocoa', 1), ('butter', 1), ('kisses', 1), ('Hope', 1), ('smile', 1), ('when', 1), ('listen', 1), (\"Ain't\", 1), ('competition,', 1), ('just', 1), (\"competin'\", 1), ('attention', 1), ('like,', 1), ('\"I\\'m', 1), ('not', 1), ('games\"', 1), ('Well,', 1), ('baby,', 1), (\"peepin'\", 1), (\"ain't\", 1), ('same', 1), ('Like,', 1), ('who', 1), ('mind?', 1), ('time?', 1), (\"vibin'\", 1), ('wit', 1), ('why', 1), (\"can't\", 1), ('mine?', 1), ('used', 1), ('be', 1), (\"textin'\", 1), (\"checkin'\", 1), (\"callin'\", 1), ('slime', 1), ('now', 1), ('treat', 1), ('like', 1), ('worth', 1), ('less', 1), ('than', 1), ('dime', 1), ('picture,', 1), ('Oh,', 1), ('this', 1), ('type', 1), ('tip', 1), ('fours', 1), ('pour', 1), ('Yeah,', 1), ('that', 1), ('fall', 1), ('in', 1), ('That,', 1), ('\"Hey', 1), ('big', 1), ('head,', 1), ('what', 1), ('on?\"', 1), ('Make', 1), ('hit', 1), ('Double', 1), ('cupped,', 1), ('but', 1), ('bae,', 1), (\"leanin'\", 1), (\"playin'\", 1), ('games,', 1), ('tryna', 1), ('boo', 1), (\"don't\", 1), ('duck', 1), ('action,', 1), ('two', 1), ('Pills', 1), ('satisfaction,', 1), ('take', 1), ('red,', 1), ('pop', 1), ('blue', 1), ('picture', 1)]\n"
     ]
    }
   ],
   "source": [
    "words = {}\n",
    "for word in text.split():\n",
    "    if word in words:\n",
    "        words[word.lower()] +=1\n",
    "        \n",
    "        \n",
    "    else:\n",
    "        words[word] =1\n",
    "\n",
    "print(words)\n",
    "        \n",
    "sortedwords = sorted(words.items())\n",
    "print(sortedwords)\n",
    "\n",
    "sortedwords = sorted(words.items(),key=operator.itemgetter(1),reverse =True)\n",
    "print(sortedwords)\n",
    "\n",
    "\n"
   ]
  },
  {
   "cell_type": "code",
   "execution_count": 46,
   "metadata": {},
   "outputs": [
    {
     "data": {
      "text/plain": [
       "36"
      ]
     },
     "execution_count": 46,
     "metadata": {},
     "output_type": "execute_result"
    }
   ],
   "source": [
    "file = open(\"shake-count.txt\",\"w\")\n",
    "\n",
    "file.write(\"Total words-{}\\n Unique Words -{}\\n\\n\".format(len(text.split()),len(sortedwords)))"
   ]
  },
  {
   "cell_type": "code",
   "execution_count": 47,
   "metadata": {},
   "outputs": [],
   "source": [
    "for wordinfo in sortedwords:\n",
    "    file.write(\"{}-{}\\n\".format(wordinfo[0],wordinfo[1]))"
   ]
  },
  {
   "cell_type": "code",
   "execution_count": 48,
   "metadata": {},
   "outputs": [],
   "source": [
    "file.close()"
   ]
  }
 ],
 "metadata": {
  "kernelspec": {
   "display_name": "Python 3",
   "language": "python",
   "name": "python3"
  },
  "language_info": {
   "codemirror_mode": {
    "name": "ipython",
    "version": 3
   },
   "file_extension": ".py",
   "mimetype": "text/x-python",
   "name": "python",
   "nbconvert_exporter": "python",
   "pygments_lexer": "ipython3",
   "version": "3.8.3"
  }
 },
 "nbformat": 4,
 "nbformat_minor": 4
}
